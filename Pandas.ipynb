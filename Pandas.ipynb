{
 "cells": [
  {
   "cell_type": "markdown",
   "metadata": {
    "id": "oX7PtWsAbau7"
   },
   "source": [
    "##**Pandas: Conceitos Fundamentais**\n",
    "Documentação oficial: https://pandas.pydata.org/pandas-docs/stable/index.html#"
   ]
  },
  {
   "cell_type": "markdown",
   "metadata": {
    "id": "itvefE8Ybk8j"
   },
   "source": [
    "***Começando com o Pandas***\n",
    "\n",
    "Para começar a usar o Pandas, primeiro precisamos importar sua bilioteca no Python.\n"
   ]
  },
  {
   "cell_type": "code",
   "execution_count": 12,
   "metadata": {
    "id": "CUmBW9MxbHi8"
   },
   "outputs": [
    {
     "name": "stdout",
     "output_type": "stream",
     "text": [
      "Requirement already satisfied: pandas in c:\\users\\h61m\\miniconda3\\lib\\site-packages (1.4.2)\n",
      "Requirement already satisfied: numpy>=1.18.5; platform_machine != \"aarch64\" and platform_machine != \"arm64\" and python_version < \"3.10\" in c:\\users\\h61m\\miniconda3\\lib\\site-packages (from pandas) (1.22.3)\n",
      "Requirement already satisfied: python-dateutil>=2.8.1 in c:\\users\\h61m\\miniconda3\\lib\\site-packages (from pandas) (2.8.2)\n",
      "Requirement already satisfied: pytz>=2020.1 in c:\\users\\h61m\\miniconda3\\lib\\site-packages (from pandas) (2022.1)\n",
      "Requirement already satisfied: six>=1.5 in c:\\users\\h61m\\miniconda3\\lib\\site-packages (from python-dateutil>=2.8.1->pandas) (1.15.0)\n"
     ]
    }
   ],
   "source": [
    "# Importando a biblioteca Pandas\n",
    "# o aliás \"pd\": convencionado pela comunidade Pandas\n",
    "!pip install pandas\n",
    "import pandas as pd "
   ]
  },
  {
   "cell_type": "markdown",
   "metadata": {
    "id": "NusYgZRKftwN"
   },
   "source": [
    "***Sobre DataFrame***\n",
    "\n",
    "Um DataFrame é uma estrutura de dados bidimensional que pode armazenar dados de diferentes tipos (incluindo caracteres, inteiros, valores de pontos flutuantes, dados categóricos e muito mais) em colunas. É semelhante a uma planilha, uma tabela SQL ou a em R.data.frame.\n",
    "\n",
    "Podemos armazenar manualmente dados em uma tabela, criando uma. Faremos isso utilizando duas estruturas do Python quê estudamos nas aulas passadas, são elas: dicionário e lista\n",
    "\n",
    "Ao usar um dicionário Python de listas, as chaves do dicionário serão usadas como cabeçalhos de coluna e os valores em cada lista como valor nas colunas do DataFrame."
   ]
  },
  {
   "cell_type": "code",
   "execution_count": 13,
   "metadata": {
    "id": "D-Qz7hgWceP2"
   },
   "outputs": [],
   "source": [
    "# Criando e utilizando um Dataframe\n",
    "# Armazenando dados dos passageiros do Titanic\n",
    "\n",
    "df = pd.DataFrame(\n",
    "    {\n",
    "        \"Name\": [\n",
    "                 \"Braund, Mr. Owen Harris\",\n",
    "                 \"Allen, Mr. William Henry\",\n",
    "                 \"Bonnell, Miss. Elizabeth\",\n",
    "        ],\n",
    "        \"Age\": [22,35,58],\n",
    "        \"Sex\": [\"male\", \"male\", \"female\"],\n",
    "    }\n",
    ")"
   ]
  },
  {
   "cell_type": "code",
   "execution_count": 14,
   "metadata": {
    "colab": {
     "base_uri": "https://localhost:8080/",
     "height": 143
    },
    "executionInfo": {
     "elapsed": 674,
     "status": "ok",
     "timestamp": 1648831640379,
     "user": {
      "displayName": "Ana Chaves",
      "userId": "09260158939179175391"
     },
     "user_tz": 180
    },
    "id": "qvg5U3lDex6N",
    "outputId": "02a74855-31b7-4828-a940-43099dc36aa2"
   },
   "outputs": [
    {
     "data": {
      "text/html": [
       "<div>\n",
       "<style scoped>\n",
       "    .dataframe tbody tr th:only-of-type {\n",
       "        vertical-align: middle;\n",
       "    }\n",
       "\n",
       "    .dataframe tbody tr th {\n",
       "        vertical-align: top;\n",
       "    }\n",
       "\n",
       "    .dataframe thead th {\n",
       "        text-align: right;\n",
       "    }\n",
       "</style>\n",
       "<table border=\"1\" class=\"dataframe\">\n",
       "  <thead>\n",
       "    <tr style=\"text-align: right;\">\n",
       "      <th></th>\n",
       "      <th>Name</th>\n",
       "      <th>Age</th>\n",
       "      <th>Sex</th>\n",
       "    </tr>\n",
       "  </thead>\n",
       "  <tbody>\n",
       "    <tr>\n",
       "      <th>0</th>\n",
       "      <td>Braund, Mr. Owen Harris</td>\n",
       "      <td>22</td>\n",
       "      <td>male</td>\n",
       "    </tr>\n",
       "    <tr>\n",
       "      <th>1</th>\n",
       "      <td>Allen, Mr. William Henry</td>\n",
       "      <td>35</td>\n",
       "      <td>male</td>\n",
       "    </tr>\n",
       "    <tr>\n",
       "      <th>2</th>\n",
       "      <td>Bonnell, Miss. Elizabeth</td>\n",
       "      <td>58</td>\n",
       "      <td>female</td>\n",
       "    </tr>\n",
       "  </tbody>\n",
       "</table>\n",
       "</div>"
      ],
      "text/plain": [
       "                       Name  Age     Sex\n",
       "0   Braund, Mr. Owen Harris   22    male\n",
       "1  Allen, Mr. William Henry   35    male\n",
       "2  Bonnell, Miss. Elizabeth   58  female"
      ]
     },
     "execution_count": 14,
     "metadata": {},
     "output_type": "execute_result"
    }
   ],
   "source": [
    "# Visualizando o DataFrame criado\n",
    "# Percebam a similaridade com uma planilha, onde os índices do dicionário\n",
    "# se tornaram um \"rótulo\" para coluna\n",
    "\n",
    "df"
   ]
  },
  {
   "cell_type": "markdown",
   "metadata": {
    "id": "cSU6KiuQiIVr"
   },
   "source": [
    "***Trabalhando com subconjuntos***"
   ]
  },
  {
   "cell_type": "code",
   "execution_count": 15,
   "metadata": {
    "colab": {
     "base_uri": "https://localhost:8080/"
    },
    "executionInfo": {
     "elapsed": 14,
     "status": "ok",
     "timestamp": 1648831640380,
     "user": {
      "displayName": "Ana Chaves",
      "userId": "09260158939179175391"
     },
     "user_tz": 180
    },
    "id": "kgvwIMfKfAdM",
    "outputId": "03774098-f7b3-4dec-fd31-9559742656ef"
   },
   "outputs": [
    {
     "data": {
      "text/plain": [
       "0    22\n",
       "1    35\n",
       "2    58\n",
       "Name: Age, dtype: int64"
      ]
     },
     "execution_count": 15,
     "metadata": {},
     "output_type": "execute_result"
    }
   ],
   "source": [
    "# Vamos trabalhar apenas com um subconjunto (coluna) do nosso DataFrame.\n",
    "# Para isso, utilizamos o rótulo dessa coluna entre colchetes.\n",
    "\n",
    "df[\"Age\"]\n",
    "\n",
    "# Selecionando uma única coluna de um DataFrame pandas,\n",
    "# o resultado é uma série pandas."
   ]
  },
  {
   "cell_type": "markdown",
   "metadata": {
    "id": "1AKcpSm2oB8c"
   },
   "source": [
    "# **Pandas: Análise dos Dados**"
   ]
  },
  {
   "cell_type": "code",
   "execution_count": 16,
   "metadata": {
    "colab": {
     "base_uri": "https://localhost:8080/",
     "height": 279
    },
    "executionInfo": {
     "elapsed": 605,
     "status": "ok",
     "timestamp": 1648600837942,
     "user": {
      "displayName": "Ana Chaves",
      "userId": "09260158939179175391"
     },
     "user_tz": 180
    },
    "id": "ZgLOfr82owTM",
    "outputId": "23feafb9-b261-4482-aa6b-ead241c01eaa"
   },
   "outputs": [
    {
     "data": {
      "text/html": [
       "<div>\n",
       "<style scoped>\n",
       "    .dataframe tbody tr th:only-of-type {\n",
       "        vertical-align: middle;\n",
       "    }\n",
       "\n",
       "    .dataframe tbody tr th {\n",
       "        vertical-align: top;\n",
       "    }\n",
       "\n",
       "    .dataframe thead th {\n",
       "        text-align: right;\n",
       "    }\n",
       "</style>\n",
       "<table border=\"1\" class=\"dataframe\">\n",
       "  <thead>\n",
       "    <tr style=\"text-align: right;\">\n",
       "      <th></th>\n",
       "      <th>Age</th>\n",
       "    </tr>\n",
       "  </thead>\n",
       "  <tbody>\n",
       "    <tr>\n",
       "      <th>count</th>\n",
       "      <td>3.000000</td>\n",
       "    </tr>\n",
       "    <tr>\n",
       "      <th>mean</th>\n",
       "      <td>38.333333</td>\n",
       "    </tr>\n",
       "    <tr>\n",
       "      <th>std</th>\n",
       "      <td>18.230012</td>\n",
       "    </tr>\n",
       "    <tr>\n",
       "      <th>min</th>\n",
       "      <td>22.000000</td>\n",
       "    </tr>\n",
       "    <tr>\n",
       "      <th>25%</th>\n",
       "      <td>28.500000</td>\n",
       "    </tr>\n",
       "    <tr>\n",
       "      <th>50%</th>\n",
       "      <td>35.000000</td>\n",
       "    </tr>\n",
       "    <tr>\n",
       "      <th>75%</th>\n",
       "      <td>46.500000</td>\n",
       "    </tr>\n",
       "    <tr>\n",
       "      <th>max</th>\n",
       "      <td>58.000000</td>\n",
       "    </tr>\n",
       "  </tbody>\n",
       "</table>\n",
       "</div>"
      ],
      "text/plain": [
       "             Age\n",
       "count   3.000000\n",
       "mean   38.333333\n",
       "std    18.230012\n",
       "min    22.000000\n",
       "25%    28.500000\n",
       "50%    35.000000\n",
       "75%    46.500000\n",
       "max    58.000000"
      ]
     },
     "execution_count": 16,
     "metadata": {},
     "output_type": "execute_result"
    }
   ],
   "source": [
    "# Para saber as estatísticas básicas dos dados númericos da minha tabela\n",
    "# utiliza-se a função \"describe()\"\n",
    "\n",
    "df.describe()"
   ]
  },
  {
   "cell_type": "code",
   "execution_count": 17,
   "metadata": {
    "colab": {
     "base_uri": "https://localhost:8080/"
    },
    "executionInfo": {
     "elapsed": 549,
     "status": "ok",
     "timestamp": 1648600857518,
     "user": {
      "displayName": "Ana Chaves",
      "userId": "09260158939179175391"
     },
     "user_tz": 180
    },
    "id": "_hYlxNKrng_5",
    "outputId": "c055c99b-6785-4bdf-b4aa-bfc7c6b56986"
   },
   "outputs": [
    {
     "data": {
      "text/plain": [
       "58"
      ]
     },
     "execution_count": 17,
     "metadata": {},
     "output_type": "execute_result"
    }
   ],
   "source": [
    "# Como saber a idade máxima dos passageiros?\n",
    "# Podemos fazer isso selecionando a coluna desejada e aplicando a função \"max()\"\n",
    "\n",
    "df[\"Age\"].max()"
   ]
  },
  {
   "cell_type": "markdown",
   "metadata": {
    "id": "W4iA6zoNrY-G"
   },
   "source": [
    "***Adicionando novos dados ao DataFrame***"
   ]
  },
  {
   "cell_type": "code",
   "execution_count": 18,
   "metadata": {
    "id": "8geCu5BQrYiX"
   },
   "outputs": [
    {
     "name": "stderr",
     "output_type": "stream",
     "text": [
      "C:\\Users\\H61M\\AppData\\Local\\Temp\\ipykernel_6548\\3191263790.py:1: FutureWarning: The frame.append method is deprecated and will be removed from pandas in a future version. Use pandas.concat instead.\n",
      "  df = df.append(\n"
     ]
    }
   ],
   "source": [
    "df = df.append(\n",
    "    pd.DataFrame(\n",
    "        {\n",
    "            \"Name\":[\n",
    "                    \"McCarthy, Mr. Timothy J\",\n",
    "                    \"Heikkinem, Miss. Laina\"\n",
    "            ],\n",
    "            \"Age\":[54, 26],\n",
    "            \"Sex\":[\"male\", \"female\"]\n",
    "        }\n",
    "    )\n",
    ")"
   ]
  },
  {
   "cell_type": "markdown",
   "metadata": {
    "id": "hap_e3z1tCkY"
   },
   "source": [
    "***Visualizando os dados novamente: observem como ficou nosso índice***"
   ]
  },
  {
   "cell_type": "code",
   "execution_count": 19,
   "metadata": {
    "colab": {
     "base_uri": "https://localhost:8080/",
     "height": 206
    },
    "executionInfo": {
     "elapsed": 337,
     "status": "ok",
     "timestamp": 1648600963557,
     "user": {
      "displayName": "Ana Chaves",
      "userId": "09260158939179175391"
     },
     "user_tz": 180
    },
    "id": "QOI4VchztPr-",
    "outputId": "8fd8472a-9967-4642-daf5-31cc9bc482ae"
   },
   "outputs": [
    {
     "data": {
      "text/html": [
       "<div>\n",
       "<style scoped>\n",
       "    .dataframe tbody tr th:only-of-type {\n",
       "        vertical-align: middle;\n",
       "    }\n",
       "\n",
       "    .dataframe tbody tr th {\n",
       "        vertical-align: top;\n",
       "    }\n",
       "\n",
       "    .dataframe thead th {\n",
       "        text-align: right;\n",
       "    }\n",
       "</style>\n",
       "<table border=\"1\" class=\"dataframe\">\n",
       "  <thead>\n",
       "    <tr style=\"text-align: right;\">\n",
       "      <th></th>\n",
       "      <th>Name</th>\n",
       "      <th>Age</th>\n",
       "      <th>Sex</th>\n",
       "    </tr>\n",
       "  </thead>\n",
       "  <tbody>\n",
       "    <tr>\n",
       "      <th>0</th>\n",
       "      <td>Braund, Mr. Owen Harris</td>\n",
       "      <td>22</td>\n",
       "      <td>male</td>\n",
       "    </tr>\n",
       "    <tr>\n",
       "      <th>1</th>\n",
       "      <td>Allen, Mr. William Henry</td>\n",
       "      <td>35</td>\n",
       "      <td>male</td>\n",
       "    </tr>\n",
       "    <tr>\n",
       "      <th>2</th>\n",
       "      <td>Bonnell, Miss. Elizabeth</td>\n",
       "      <td>58</td>\n",
       "      <td>female</td>\n",
       "    </tr>\n",
       "    <tr>\n",
       "      <th>0</th>\n",
       "      <td>McCarthy, Mr. Timothy J</td>\n",
       "      <td>54</td>\n",
       "      <td>male</td>\n",
       "    </tr>\n",
       "    <tr>\n",
       "      <th>1</th>\n",
       "      <td>Heikkinem, Miss. Laina</td>\n",
       "      <td>26</td>\n",
       "      <td>female</td>\n",
       "    </tr>\n",
       "  </tbody>\n",
       "</table>\n",
       "</div>"
      ],
      "text/plain": [
       "                       Name  Age     Sex\n",
       "0   Braund, Mr. Owen Harris   22    male\n",
       "1  Allen, Mr. William Henry   35    male\n",
       "2  Bonnell, Miss. Elizabeth   58  female\n",
       "0   McCarthy, Mr. Timothy J   54    male\n",
       "1    Heikkinem, Miss. Laina   26  female"
      ]
     },
     "execution_count": 19,
     "metadata": {},
     "output_type": "execute_result"
    }
   ],
   "source": [
    "df"
   ]
  },
  {
   "cell_type": "markdown",
   "metadata": {
    "id": "RAD2L3Oatbcp"
   },
   "source": [
    "***Ajustando o Índice do DataFrame***\n",
    "\n",
    "Existem várias formas de organizar os índices, vale procurar um pouco na documentação. \n",
    "\n",
    "Usaremos o método \"reset_index()\".\n",
    "\n",
    "https://pandas.pydata.org/pandas-docs/stable/reference/api/pandas.DataFrame.reset_index.html#pandas.DataFrame.reset_index"
   ]
  },
  {
   "cell_type": "code",
   "execution_count": 20,
   "metadata": {
    "id": "w7XYIa4_tuxN"
   },
   "outputs": [],
   "source": [
    "df = df.reset_index()"
   ]
  },
  {
   "cell_type": "markdown",
   "metadata": {
    "id": "iWyZ91eSvBXA"
   },
   "source": [
    "# **Filtrando e tratando os dados**"
   ]
  },
  {
   "cell_type": "markdown",
   "metadata": {
    "id": "0On80RrnvNVm"
   },
   "source": [
    "***Retornando nosso DataFrame***"
   ]
  },
  {
   "cell_type": "code",
   "execution_count": 21,
   "metadata": {
    "colab": {
     "base_uri": "https://localhost:8080/",
     "height": 206
    },
    "executionInfo": {
     "elapsed": 375,
     "status": "ok",
     "timestamp": 1648601001427,
     "user": {
      "displayName": "Ana Chaves",
      "userId": "09260158939179175391"
     },
     "user_tz": 180
    },
    "id": "nRLGeEp8vROX",
    "outputId": "b213c1ef-476f-46ba-824e-156a73e46228"
   },
   "outputs": [
    {
     "data": {
      "text/html": [
       "<div>\n",
       "<style scoped>\n",
       "    .dataframe tbody tr th:only-of-type {\n",
       "        vertical-align: middle;\n",
       "    }\n",
       "\n",
       "    .dataframe tbody tr th {\n",
       "        vertical-align: top;\n",
       "    }\n",
       "\n",
       "    .dataframe thead th {\n",
       "        text-align: right;\n",
       "    }\n",
       "</style>\n",
       "<table border=\"1\" class=\"dataframe\">\n",
       "  <thead>\n",
       "    <tr style=\"text-align: right;\">\n",
       "      <th></th>\n",
       "      <th>index</th>\n",
       "      <th>Name</th>\n",
       "      <th>Age</th>\n",
       "      <th>Sex</th>\n",
       "    </tr>\n",
       "  </thead>\n",
       "  <tbody>\n",
       "    <tr>\n",
       "      <th>0</th>\n",
       "      <td>0</td>\n",
       "      <td>Braund, Mr. Owen Harris</td>\n",
       "      <td>22</td>\n",
       "      <td>male</td>\n",
       "    </tr>\n",
       "    <tr>\n",
       "      <th>1</th>\n",
       "      <td>1</td>\n",
       "      <td>Allen, Mr. William Henry</td>\n",
       "      <td>35</td>\n",
       "      <td>male</td>\n",
       "    </tr>\n",
       "    <tr>\n",
       "      <th>2</th>\n",
       "      <td>2</td>\n",
       "      <td>Bonnell, Miss. Elizabeth</td>\n",
       "      <td>58</td>\n",
       "      <td>female</td>\n",
       "    </tr>\n",
       "    <tr>\n",
       "      <th>3</th>\n",
       "      <td>0</td>\n",
       "      <td>McCarthy, Mr. Timothy J</td>\n",
       "      <td>54</td>\n",
       "      <td>male</td>\n",
       "    </tr>\n",
       "    <tr>\n",
       "      <th>4</th>\n",
       "      <td>1</td>\n",
       "      <td>Heikkinem, Miss. Laina</td>\n",
       "      <td>26</td>\n",
       "      <td>female</td>\n",
       "    </tr>\n",
       "  </tbody>\n",
       "</table>\n",
       "</div>"
      ],
      "text/plain": [
       "   index                      Name  Age     Sex\n",
       "0      0   Braund, Mr. Owen Harris   22    male\n",
       "1      1  Allen, Mr. William Henry   35    male\n",
       "2      2  Bonnell, Miss. Elizabeth   58  female\n",
       "3      0   McCarthy, Mr. Timothy J   54    male\n",
       "4      1    Heikkinem, Miss. Laina   26  female"
      ]
     },
     "execution_count": 21,
     "metadata": {},
     "output_type": "execute_result"
    }
   ],
   "source": [
    "df"
   ]
  },
  {
   "cell_type": "markdown",
   "metadata": {
    "id": "8BYN0DCCvz_A"
   },
   "source": [
    "***E se quisermos apenas os passageiros do sexo feminino?***\n",
    "\n",
    "***Podemos criar um filtro, que tal?***"
   ]
  },
  {
   "cell_type": "code",
   "execution_count": 22,
   "metadata": {
    "id": "Zvadzp7Fv8Fn"
   },
   "outputs": [],
   "source": [
    "filtro = df[\"Sex\"] == \"female\""
   ]
  },
  {
   "cell_type": "markdown",
   "metadata": {
    "id": "Y8b80rnIwU0Z"
   },
   "source": [
    "***Analisando o resultado***"
   ]
  },
  {
   "cell_type": "code",
   "execution_count": 23,
   "metadata": {
    "colab": {
     "base_uri": "https://localhost:8080/"
    },
    "executionInfo": {
     "elapsed": 300,
     "status": "ok",
     "timestamp": 1648601020764,
     "user": {
      "displayName": "Ana Chaves",
      "userId": "09260158939179175391"
     },
     "user_tz": 180
    },
    "id": "ZAafFXq8wW5V",
    "outputId": "32ecfa6d-152c-46ff-83ba-d4995c998be4"
   },
   "outputs": [
    {
     "data": {
      "text/plain": [
       "0    False\n",
       "1    False\n",
       "2     True\n",
       "3    False\n",
       "4     True\n",
       "Name: Sex, dtype: bool"
      ]
     },
     "execution_count": 23,
     "metadata": {},
     "output_type": "execute_result"
    }
   ],
   "source": [
    "filtro"
   ]
  },
  {
   "cell_type": "markdown",
   "metadata": {
    "id": "2c4zxIMVyKqK"
   },
   "source": [
    "***Bom. E como é que usaremos este filtro? Agora vem a parte fácil***"
   ]
  },
  {
   "cell_type": "code",
   "execution_count": 24,
   "metadata": {
    "colab": {
     "base_uri": "https://localhost:8080/",
     "height": 112
    },
    "executionInfo": {
     "elapsed": 342,
     "status": "ok",
     "timestamp": 1648601035500,
     "user": {
      "displayName": "Ana Chaves",
      "userId": "09260158939179175391"
     },
     "user_tz": 180
    },
    "id": "sT_dLb-xyOPH",
    "outputId": "42c3ae7a-e77d-4749-d7c5-26b4eb6e7d9d"
   },
   "outputs": [
    {
     "data": {
      "text/html": [
       "<div>\n",
       "<style scoped>\n",
       "    .dataframe tbody tr th:only-of-type {\n",
       "        vertical-align: middle;\n",
       "    }\n",
       "\n",
       "    .dataframe tbody tr th {\n",
       "        vertical-align: top;\n",
       "    }\n",
       "\n",
       "    .dataframe thead th {\n",
       "        text-align: right;\n",
       "    }\n",
       "</style>\n",
       "<table border=\"1\" class=\"dataframe\">\n",
       "  <thead>\n",
       "    <tr style=\"text-align: right;\">\n",
       "      <th></th>\n",
       "      <th>index</th>\n",
       "      <th>Name</th>\n",
       "      <th>Age</th>\n",
       "      <th>Sex</th>\n",
       "    </tr>\n",
       "  </thead>\n",
       "  <tbody>\n",
       "    <tr>\n",
       "      <th>2</th>\n",
       "      <td>2</td>\n",
       "      <td>Bonnell, Miss. Elizabeth</td>\n",
       "      <td>58</td>\n",
       "      <td>female</td>\n",
       "    </tr>\n",
       "    <tr>\n",
       "      <th>4</th>\n",
       "      <td>1</td>\n",
       "      <td>Heikkinem, Miss. Laina</td>\n",
       "      <td>26</td>\n",
       "      <td>female</td>\n",
       "    </tr>\n",
       "  </tbody>\n",
       "</table>\n",
       "</div>"
      ],
      "text/plain": [
       "   index                      Name  Age     Sex\n",
       "2      2  Bonnell, Miss. Elizabeth   58  female\n",
       "4      1    Heikkinem, Miss. Laina   26  female"
      ]
     },
     "execution_count": 24,
     "metadata": {},
     "output_type": "execute_result"
    }
   ],
   "source": [
    "#execute o Dataframe novo para não alterar o original, com o filtro criado\n",
    "\n",
    "df_filtrado = df[filtro]\n",
    "df_filtrado"
   ]
  },
  {
   "cell_type": "code",
   "execution_count": 25,
   "metadata": {
    "colab": {
     "base_uri": "https://localhost:8080/"
    },
    "executionInfo": {
     "elapsed": 318,
     "status": "ok",
     "timestamp": 1648601047497,
     "user": {
      "displayName": "Ana Chaves",
      "userId": "09260158939179175391"
     },
     "user_tz": 180
    },
    "id": "2gZDbOzXz11K",
    "outputId": "a63f28a6-3aee-4fdf-9225-00b1140b5f59"
   },
   "outputs": [
    {
     "data": {
      "text/plain": [
       "index    5\n",
       "Name     5\n",
       "Age      5\n",
       "Sex      5\n",
       "dtype: int64"
      ]
     },
     "execution_count": 25,
     "metadata": {},
     "output_type": "execute_result"
    }
   ],
   "source": [
    "#Quantos registros temos em nosso DataFrame?\n",
    "\n",
    "df.count()\n",
    "\n",
    "#Perceba que ele retorna a contagem em cada uma das séries"
   ]
  },
  {
   "cell_type": "code",
   "execution_count": 26,
   "metadata": {
    "colab": {
     "base_uri": "https://localhost:8080/"
    },
    "executionInfo": {
     "elapsed": 3921,
     "status": "ok",
     "timestamp": 1648601100356,
     "user": {
      "displayName": "Ana Chaves",
      "userId": "09260158939179175391"
     },
     "user_tz": 180
    },
    "id": "bpOWW7gb0Mfn",
    "outputId": "1a025c34-01d4-46e3-d9c2-a56555b52b02"
   },
   "outputs": [
    {
     "data": {
      "text/plain": [
       "5"
      ]
     },
     "execution_count": 26,
     "metadata": {},
     "output_type": "execute_result"
    }
   ],
   "source": [
    "# Para uma contagem geral podemos aplicar um filtro no \"index\"\n",
    "\n",
    "df[\"index\"].count()"
   ]
  },
  {
   "cell_type": "code",
   "execution_count": 27,
   "metadata": {
    "id": "3bgDEaxR0lVO"
   },
   "outputs": [],
   "source": [
    "# Criando DataFrames a partir do Principal\n",
    "# Primerio filtro do sexo feminino\n",
    "\n",
    "filtro = df[\"Sex\"] == \"female\""
   ]
  },
  {
   "cell_type": "code",
   "execution_count": 28,
   "metadata": {
    "id": "aVbKevpf09In"
   },
   "outputs": [],
   "source": [
    "#Criando DataFrame e armazenando os dados de sexo feminino\n",
    "\n",
    "df_feminino = df[filtro]"
   ]
  },
  {
   "cell_type": "code",
   "execution_count": 29,
   "metadata": {
    "colab": {
     "base_uri": "https://localhost:8080/"
    },
    "executionInfo": {
     "elapsed": 411,
     "status": "ok",
     "timestamp": 1648601247156,
     "user": {
      "displayName": "Ana Chaves",
      "userId": "09260158939179175391"
     },
     "user_tz": 180
    },
    "id": "umkJK4-r1QSC",
    "outputId": "2e85e073-75e2-44d4-bb9b-a96719190de0"
   },
   "outputs": [
    {
     "data": {
      "text/plain": [
       "58"
      ]
     },
     "execution_count": 29,
     "metadata": {},
     "output_type": "execute_result"
    }
   ],
   "source": [
    "# Qual a idade máxima do sexo feminino?\n",
    "\n",
    "df_feminino[\"Age\"].max()"
   ]
  },
  {
   "cell_type": "code",
   "execution_count": 30,
   "metadata": {
    "colab": {
     "base_uri": "https://localhost:8080/"
    },
    "executionInfo": {
     "elapsed": 564,
     "status": "ok",
     "timestamp": 1648601257169,
     "user": {
      "displayName": "Ana Chaves",
      "userId": "09260158939179175391"
     },
     "user_tz": 180
    },
    "id": "Oyz2xjBx1kvM",
    "outputId": "55ab081c-531a-4ab0-bf8c-438ce6a04688"
   },
   "outputs": [
    {
     "data": {
      "text/plain": [
       "26"
      ]
     },
     "execution_count": 30,
     "metadata": {},
     "output_type": "execute_result"
    }
   ],
   "source": [
    "# Qual a idade mínima do sexo feminimo?\n",
    "\n",
    "df_feminino[\"Age\"].min()"
   ]
  },
  {
   "cell_type": "code",
   "execution_count": 31,
   "metadata": {
    "colab": {
     "base_uri": "https://localhost:8080/"
    },
    "executionInfo": {
     "elapsed": 9,
     "status": "ok",
     "timestamp": 1648601260255,
     "user": {
      "displayName": "Ana Chaves",
      "userId": "09260158939179175391"
     },
     "user_tz": 180
    },
    "id": "1TOihIWw1uAA",
    "outputId": "ebf89b4f-8de7-4f42-c9ea-5c258e41f5f9"
   },
   "outputs": [
    {
     "data": {
      "text/plain": [
       "42.0"
      ]
     },
     "execution_count": 31,
     "metadata": {},
     "output_type": "execute_result"
    }
   ],
   "source": [
    "# Qual a média da idade do sexo feminino?\n",
    "\n",
    "df_feminino[\"Age\"].mean()"
   ]
  },
  {
   "cell_type": "markdown",
   "metadata": {
    "id": "3gBa8vR218cJ"
   },
   "source": [
    "# ***Repita as análises para o sexo masculino!***\n",
    "Dica: inicie alterando o filtro"
   ]
  },
  {
   "cell_type": "code",
   "execution_count": 32,
   "metadata": {
    "id": "RHhODspySwkT"
   },
   "outputs": [],
   "source": [
    "filtro_male = df[\"Sex\"] == \"male\""
   ]
  },
  {
   "cell_type": "code",
   "execution_count": 33,
   "metadata": {
    "colab": {
     "base_uri": "https://localhost:8080/",
     "height": 143
    },
    "executionInfo": {
     "elapsed": 33,
     "status": "ok",
     "timestamp": 1648601360974,
     "user": {
      "displayName": "Ana Chaves",
      "userId": "09260158939179175391"
     },
     "user_tz": 180
    },
    "id": "dS1a-_m-S5cC",
    "outputId": "f7a0e465-a0ae-428f-e073-c5bcd5b447c6"
   },
   "outputs": [
    {
     "data": {
      "text/html": [
       "<div>\n",
       "<style scoped>\n",
       "    .dataframe tbody tr th:only-of-type {\n",
       "        vertical-align: middle;\n",
       "    }\n",
       "\n",
       "    .dataframe tbody tr th {\n",
       "        vertical-align: top;\n",
       "    }\n",
       "\n",
       "    .dataframe thead th {\n",
       "        text-align: right;\n",
       "    }\n",
       "</style>\n",
       "<table border=\"1\" class=\"dataframe\">\n",
       "  <thead>\n",
       "    <tr style=\"text-align: right;\">\n",
       "      <th></th>\n",
       "      <th>index</th>\n",
       "      <th>Name</th>\n",
       "      <th>Age</th>\n",
       "      <th>Sex</th>\n",
       "    </tr>\n",
       "  </thead>\n",
       "  <tbody>\n",
       "    <tr>\n",
       "      <th>0</th>\n",
       "      <td>0</td>\n",
       "      <td>Braund, Mr. Owen Harris</td>\n",
       "      <td>22</td>\n",
       "      <td>male</td>\n",
       "    </tr>\n",
       "    <tr>\n",
       "      <th>1</th>\n",
       "      <td>1</td>\n",
       "      <td>Allen, Mr. William Henry</td>\n",
       "      <td>35</td>\n",
       "      <td>male</td>\n",
       "    </tr>\n",
       "    <tr>\n",
       "      <th>3</th>\n",
       "      <td>0</td>\n",
       "      <td>McCarthy, Mr. Timothy J</td>\n",
       "      <td>54</td>\n",
       "      <td>male</td>\n",
       "    </tr>\n",
       "  </tbody>\n",
       "</table>\n",
       "</div>"
      ],
      "text/plain": [
       "   index                      Name  Age   Sex\n",
       "0      0   Braund, Mr. Owen Harris   22  male\n",
       "1      1  Allen, Mr. William Henry   35  male\n",
       "3      0   McCarthy, Mr. Timothy J   54  male"
      ]
     },
     "execution_count": 33,
     "metadata": {},
     "output_type": "execute_result"
    }
   ],
   "source": [
    "df_filtro_male = df[filtro_male]\n",
    "df_filtro_male"
   ]
  },
  {
   "cell_type": "code",
   "execution_count": 34,
   "metadata": {
    "colab": {
     "base_uri": "https://localhost:8080/"
    },
    "executionInfo": {
     "elapsed": 366,
     "status": "ok",
     "timestamp": 1648601434812,
     "user": {
      "displayName": "Ana Chaves",
      "userId": "09260158939179175391"
     },
     "user_tz": 180
    },
    "id": "IkIh-W9GTHzm",
    "outputId": "9b1a7403-4ac9-439f-eb06-c4ca5a52dbc2"
   },
   "outputs": [
    {
     "data": {
      "text/plain": [
       "54"
      ]
     },
     "execution_count": 34,
     "metadata": {},
     "output_type": "execute_result"
    }
   ],
   "source": [
    "df_filtro_male['Age'].max()"
   ]
  },
  {
   "cell_type": "code",
   "execution_count": 35,
   "metadata": {
    "colab": {
     "base_uri": "https://localhost:8080/"
    },
    "executionInfo": {
     "elapsed": 280,
     "status": "ok",
     "timestamp": 1648601458232,
     "user": {
      "displayName": "Ana Chaves",
      "userId": "09260158939179175391"
     },
     "user_tz": 180
    },
    "id": "bCNKeQvITZj_",
    "outputId": "8274a036-5b9f-45e2-8e6e-20b1e160df0b"
   },
   "outputs": [
    {
     "data": {
      "text/plain": [
       "22"
      ]
     },
     "execution_count": 35,
     "metadata": {},
     "output_type": "execute_result"
    }
   ],
   "source": [
    "df_filtro_male['Age'].min()"
   ]
  },
  {
   "cell_type": "code",
   "execution_count": 36,
   "metadata": {
    "colab": {
     "base_uri": "https://localhost:8080/"
    },
    "executionInfo": {
     "elapsed": 322,
     "status": "ok",
     "timestamp": 1648601488654,
     "user": {
      "displayName": "Ana Chaves",
      "userId": "09260158939179175391"
     },
     "user_tz": 180
    },
    "id": "IOHKl2gGTf_y",
    "outputId": "d0211968-2cef-4cce-e8ae-551aec6f6ec7"
   },
   "outputs": [
    {
     "data": {
      "text/plain": [
       "37.0"
      ]
     },
     "execution_count": 36,
     "metadata": {},
     "output_type": "execute_result"
    }
   ],
   "source": [
    "df_filtro_male['Age'].mean()"
   ]
  },
  {
   "cell_type": "code",
   "execution_count": 37,
   "metadata": {
    "colab": {
     "base_uri": "https://localhost:8080/"
    },
    "executionInfo": {
     "elapsed": 13,
     "status": "ok",
     "timestamp": 1648601536457,
     "user": {
      "displayName": "Ana Chaves",
      "userId": "09260158939179175391"
     },
     "user_tz": 180
    },
    "id": "LFUGYc7bToTv",
    "outputId": "704decb3-1668-4a65-aa6a-92dd1969d265"
   },
   "outputs": [
    {
     "data": {
      "text/plain": [
       "index    3\n",
       "Name     3\n",
       "Age      3\n",
       "Sex      3\n",
       "dtype: int64"
      ]
     },
     "execution_count": 37,
     "metadata": {},
     "output_type": "execute_result"
    }
   ],
   "source": [
    "df_filtro_male.count()"
   ]
  },
  {
   "cell_type": "code",
   "execution_count": 38,
   "metadata": {
    "colab": {
     "base_uri": "https://localhost:8080/"
    },
    "executionInfo": {
     "elapsed": 339,
     "status": "ok",
     "timestamp": 1648604522568,
     "user": {
      "displayName": "Ana Chaves",
      "userId": "09260158939179175391"
     },
     "user_tz": 180
    },
    "id": "PbTE1ziffEZf",
    "outputId": "53c24050-498c-41fd-e09a-98adc09511c0"
   },
   "outputs": [
    {
     "data": {
      "text/plain": [
       "5"
      ]
     },
     "execution_count": 38,
     "metadata": {},
     "output_type": "execute_result"
    }
   ],
   "source": [
    "df['Age'].count()"
   ]
  },
  {
   "cell_type": "markdown",
   "metadata": {
    "id": "ABFQs-krPsTb"
   },
   "source": [
    "# **Pandas - Transformação de dados**"
   ]
  },
  {
   "cell_type": "markdown",
   "metadata": {
    "id": "E6J2b6B7Pzbb"
   },
   "source": [
    "Você sabia que o Pandas suporta a integração com muitos formatos de arquivo ou fontes de dados (csv, excel, sql, json, parquet,...). A importação de dados de cada uma dessas fontes de dados é fornecida por função com o prefixo. Da mesma forma, os métodos são usados para armazenar dados.\n",
    "Para iniciar, vamos usar uma estrutura de JSON.\n",
    " Lembre-se de importar a biblioteca Pandas."
   ]
  },
  {
   "cell_type": "code",
   "execution_count": 39,
   "metadata": {
    "id": "gLSuAIjqNb2i"
   },
   "outputs": [],
   "source": [
    "import pandas as pd\n",
    "dados = pd.read_json('https://servicodados.ibge.gov.br/api/v2/censos/nomes/joao?groupBy=UF')"
   ]
  },
  {
   "cell_type": "markdown",
   "metadata": {
    "id": "s9qYF6zcQmjB"
   },
   "source": [
    "Agora visualize nosso Dataframe! Tá pronto pra gente analisar e manipular!\n",
    "Vamos aproveitar e criar mais um Dataframe com os estados."
   ]
  },
  {
   "cell_type": "code",
   "execution_count": 40,
   "metadata": {
    "colab": {
     "base_uri": "https://localhost:8080/",
     "height": 206
    },
    "executionInfo": {
     "elapsed": 27,
     "status": "ok",
     "timestamp": 1648822185649,
     "user": {
      "displayName": "Ana Chaves",
      "userId": "09260158939179175391"
     },
     "user_tz": 180
    },
    "id": "0MCnLOAVTULi",
    "outputId": "f5fbc233-20e9-4793-afaf-e19483a01e64"
   },
   "outputs": [
    {
     "data": {
      "text/html": [
       "<div>\n",
       "<style scoped>\n",
       "    .dataframe tbody tr th:only-of-type {\n",
       "        vertical-align: middle;\n",
       "    }\n",
       "\n",
       "    .dataframe tbody tr th {\n",
       "        vertical-align: top;\n",
       "    }\n",
       "\n",
       "    .dataframe thead th {\n",
       "        text-align: right;\n",
       "    }\n",
       "</style>\n",
       "<table border=\"1\" class=\"dataframe\">\n",
       "  <thead>\n",
       "    <tr style=\"text-align: right;\">\n",
       "      <th></th>\n",
       "      <th>localidade</th>\n",
       "      <th>res</th>\n",
       "    </tr>\n",
       "  </thead>\n",
       "  <tbody>\n",
       "    <tr>\n",
       "      <th>0</th>\n",
       "      <td>24</td>\n",
       "      <td>[{'populacao': 3168027, 'frequencia': 72363, '...</td>\n",
       "    </tr>\n",
       "    <tr>\n",
       "      <th>1</th>\n",
       "      <td>25</td>\n",
       "      <td>[{'populacao': 3766528, 'frequencia': 73799, '...</td>\n",
       "    </tr>\n",
       "    <tr>\n",
       "      <th>2</th>\n",
       "      <td>22</td>\n",
       "      <td>[{'populacao': 3118360, 'frequencia': 58554, '...</td>\n",
       "    </tr>\n",
       "    <tr>\n",
       "      <th>3</th>\n",
       "      <td>41</td>\n",
       "      <td>[{'populacao': 10444526, 'frequencia': 195430,...</td>\n",
       "    </tr>\n",
       "    <tr>\n",
       "      <th>4</th>\n",
       "      <td>52</td>\n",
       "      <td>[{'populacao': 6003788, 'frequencia': 111064, ...</td>\n",
       "    </tr>\n",
       "  </tbody>\n",
       "</table>\n",
       "</div>"
      ],
      "text/plain": [
       "   localidade                                                res\n",
       "0          24  [{'populacao': 3168027, 'frequencia': 72363, '...\n",
       "1          25  [{'populacao': 3766528, 'frequencia': 73799, '...\n",
       "2          22  [{'populacao': 3118360, 'frequencia': 58554, '...\n",
       "3          41  [{'populacao': 10444526, 'frequencia': 195430,...\n",
       "4          52  [{'populacao': 6003788, 'frequencia': 111064, ..."
      ]
     },
     "execution_count": 40,
     "metadata": {},
     "output_type": "execute_result"
    }
   ],
   "source": [
    "dados.head()"
   ]
  },
  {
   "cell_type": "code",
   "execution_count": 41,
   "metadata": {
    "id": "bF7FI1idQ_vv"
   },
   "outputs": [],
   "source": [
    "estados = pd.read_json('https://servicodados.ibge.gov.br/api/v1/localidades/estados?orderBy=id')"
   ]
  },
  {
   "cell_type": "code",
   "execution_count": 42,
   "metadata": {
    "colab": {
     "base_uri": "https://localhost:8080/",
     "height": 206
    },
    "executionInfo": {
     "elapsed": 15,
     "status": "ok",
     "timestamp": 1648822186206,
     "user": {
      "displayName": "Ana Chaves",
      "userId": "09260158939179175391"
     },
     "user_tz": 180
    },
    "id": "945KprwLSMf2",
    "outputId": "607c5e06-aebe-49c0-a72a-81996e0fe600"
   },
   "outputs": [
    {
     "data": {
      "text/html": [
       "<div>\n",
       "<style scoped>\n",
       "    .dataframe tbody tr th:only-of-type {\n",
       "        vertical-align: middle;\n",
       "    }\n",
       "\n",
       "    .dataframe tbody tr th {\n",
       "        vertical-align: top;\n",
       "    }\n",
       "\n",
       "    .dataframe thead th {\n",
       "        text-align: right;\n",
       "    }\n",
       "</style>\n",
       "<table border=\"1\" class=\"dataframe\">\n",
       "  <thead>\n",
       "    <tr style=\"text-align: right;\">\n",
       "      <th></th>\n",
       "      <th>id</th>\n",
       "      <th>sigla</th>\n",
       "      <th>nome</th>\n",
       "      <th>regiao</th>\n",
       "    </tr>\n",
       "  </thead>\n",
       "  <tbody>\n",
       "    <tr>\n",
       "      <th>0</th>\n",
       "      <td>11</td>\n",
       "      <td>RO</td>\n",
       "      <td>Rondônia</td>\n",
       "      <td>{'id': 1, 'sigla': 'N', 'nome': 'Norte'}</td>\n",
       "    </tr>\n",
       "    <tr>\n",
       "      <th>1</th>\n",
       "      <td>12</td>\n",
       "      <td>AC</td>\n",
       "      <td>Acre</td>\n",
       "      <td>{'id': 1, 'sigla': 'N', 'nome': 'Norte'}</td>\n",
       "    </tr>\n",
       "    <tr>\n",
       "      <th>2</th>\n",
       "      <td>13</td>\n",
       "      <td>AM</td>\n",
       "      <td>Amazonas</td>\n",
       "      <td>{'id': 1, 'sigla': 'N', 'nome': 'Norte'}</td>\n",
       "    </tr>\n",
       "    <tr>\n",
       "      <th>3</th>\n",
       "      <td>14</td>\n",
       "      <td>RR</td>\n",
       "      <td>Roraima</td>\n",
       "      <td>{'id': 1, 'sigla': 'N', 'nome': 'Norte'}</td>\n",
       "    </tr>\n",
       "    <tr>\n",
       "      <th>4</th>\n",
       "      <td>15</td>\n",
       "      <td>PA</td>\n",
       "      <td>Pará</td>\n",
       "      <td>{'id': 1, 'sigla': 'N', 'nome': 'Norte'}</td>\n",
       "    </tr>\n",
       "  </tbody>\n",
       "</table>\n",
       "</div>"
      ],
      "text/plain": [
       "   id sigla      nome                                    regiao\n",
       "0  11    RO  Rondônia  {'id': 1, 'sigla': 'N', 'nome': 'Norte'}\n",
       "1  12    AC      Acre  {'id': 1, 'sigla': 'N', 'nome': 'Norte'}\n",
       "2  13    AM  Amazonas  {'id': 1, 'sigla': 'N', 'nome': 'Norte'}\n",
       "3  14    RR   Roraima  {'id': 1, 'sigla': 'N', 'nome': 'Norte'}\n",
       "4  15    PA      Pará  {'id': 1, 'sigla': 'N', 'nome': 'Norte'}"
      ]
     },
     "execution_count": 42,
     "metadata": {},
     "output_type": "execute_result"
    }
   ],
   "source": [
    "#vizualização de dados\n",
    "estados.head()"
   ]
  },
  {
   "cell_type": "markdown",
   "metadata": {
    "id": "qV_Ls9pERMta"
   },
   "source": [
    "Vamos salvar nosso Dataframe em uma planilha? O Pandas já tem recurso para isso. Só execute o código abaixo:"
   ]
  },
  {
   "cell_type": "code",
   "execution_count": 43,
   "metadata": {
    "id": "osiGh1c3RNzo"
   },
   "outputs": [
    {
     "ename": "ModuleNotFoundError",
     "evalue": "No module named 'openpyxl'",
     "output_type": "error",
     "traceback": [
      "\u001b[1;31m---------------------------------------------------------------------------\u001b[0m",
      "\u001b[1;31mModuleNotFoundError\u001b[0m                       Traceback (most recent call last)",
      "Input \u001b[1;32mIn [43]\u001b[0m, in \u001b[0;36m<cell line: 1>\u001b[1;34m()\u001b[0m\n\u001b[1;32m----> 1\u001b[0m \u001b[43mestados\u001b[49m\u001b[38;5;241;43m.\u001b[39;49m\u001b[43mto_excel\u001b[49m\u001b[43m(\u001b[49m\u001b[38;5;124;43m\"\u001b[39;49m\u001b[38;5;124;43mestados.xlsx\u001b[39;49m\u001b[38;5;124;43m\"\u001b[39;49m\u001b[43m)\u001b[49m\n",
      "File \u001b[1;32mc:\\users\\h61m\\miniconda3\\lib\\site-packages\\pandas\\core\\generic.py:2345\u001b[0m, in \u001b[0;36mNDFrame.to_excel\u001b[1;34m(self, excel_writer, sheet_name, na_rep, float_format, columns, header, index, index_label, startrow, startcol, engine, merge_cells, encoding, inf_rep, verbose, freeze_panes, storage_options)\u001b[0m\n\u001b[0;32m   2332\u001b[0m \u001b[38;5;28;01mfrom\u001b[39;00m \u001b[38;5;21;01mpandas\u001b[39;00m\u001b[38;5;21;01m.\u001b[39;00m\u001b[38;5;21;01mio\u001b[39;00m\u001b[38;5;21;01m.\u001b[39;00m\u001b[38;5;21;01mformats\u001b[39;00m\u001b[38;5;21;01m.\u001b[39;00m\u001b[38;5;21;01mexcel\u001b[39;00m \u001b[38;5;28;01mimport\u001b[39;00m ExcelFormatter\n\u001b[0;32m   2334\u001b[0m formatter \u001b[38;5;241m=\u001b[39m ExcelFormatter(\n\u001b[0;32m   2335\u001b[0m     df,\n\u001b[0;32m   2336\u001b[0m     na_rep\u001b[38;5;241m=\u001b[39mna_rep,\n\u001b[1;32m   (...)\u001b[0m\n\u001b[0;32m   2343\u001b[0m     inf_rep\u001b[38;5;241m=\u001b[39minf_rep,\n\u001b[0;32m   2344\u001b[0m )\n\u001b[1;32m-> 2345\u001b[0m \u001b[43mformatter\u001b[49m\u001b[38;5;241;43m.\u001b[39;49m\u001b[43mwrite\u001b[49m\u001b[43m(\u001b[49m\n\u001b[0;32m   2346\u001b[0m \u001b[43m    \u001b[49m\u001b[43mexcel_writer\u001b[49m\u001b[43m,\u001b[49m\n\u001b[0;32m   2347\u001b[0m \u001b[43m    \u001b[49m\u001b[43msheet_name\u001b[49m\u001b[38;5;241;43m=\u001b[39;49m\u001b[43msheet_name\u001b[49m\u001b[43m,\u001b[49m\n\u001b[0;32m   2348\u001b[0m \u001b[43m    \u001b[49m\u001b[43mstartrow\u001b[49m\u001b[38;5;241;43m=\u001b[39;49m\u001b[43mstartrow\u001b[49m\u001b[43m,\u001b[49m\n\u001b[0;32m   2349\u001b[0m \u001b[43m    \u001b[49m\u001b[43mstartcol\u001b[49m\u001b[38;5;241;43m=\u001b[39;49m\u001b[43mstartcol\u001b[49m\u001b[43m,\u001b[49m\n\u001b[0;32m   2350\u001b[0m \u001b[43m    \u001b[49m\u001b[43mfreeze_panes\u001b[49m\u001b[38;5;241;43m=\u001b[39;49m\u001b[43mfreeze_panes\u001b[49m\u001b[43m,\u001b[49m\n\u001b[0;32m   2351\u001b[0m \u001b[43m    \u001b[49m\u001b[43mengine\u001b[49m\u001b[38;5;241;43m=\u001b[39;49m\u001b[43mengine\u001b[49m\u001b[43m,\u001b[49m\n\u001b[0;32m   2352\u001b[0m \u001b[43m    \u001b[49m\u001b[43mstorage_options\u001b[49m\u001b[38;5;241;43m=\u001b[39;49m\u001b[43mstorage_options\u001b[49m\u001b[43m,\u001b[49m\n\u001b[0;32m   2353\u001b[0m \u001b[43m\u001b[49m\u001b[43m)\u001b[49m\n",
      "File \u001b[1;32mc:\\users\\h61m\\miniconda3\\lib\\site-packages\\pandas\\io\\formats\\excel.py:888\u001b[0m, in \u001b[0;36mExcelFormatter.write\u001b[1;34m(self, writer, sheet_name, startrow, startcol, freeze_panes, engine, storage_options)\u001b[0m\n\u001b[0;32m    884\u001b[0m     need_save \u001b[38;5;241m=\u001b[39m \u001b[38;5;28;01mFalse\u001b[39;00m\n\u001b[0;32m    885\u001b[0m \u001b[38;5;28;01melse\u001b[39;00m:\n\u001b[0;32m    886\u001b[0m     \u001b[38;5;66;03m# error: Cannot instantiate abstract class 'ExcelWriter' with abstract\u001b[39;00m\n\u001b[0;32m    887\u001b[0m     \u001b[38;5;66;03m# attributes 'engine', 'save', 'supported_extensions' and 'write_cells'\u001b[39;00m\n\u001b[1;32m--> 888\u001b[0m     writer \u001b[38;5;241m=\u001b[39m \u001b[43mExcelWriter\u001b[49m\u001b[43m(\u001b[49m\u001b[43m  \u001b[49m\u001b[38;5;66;43;03m# type: ignore[abstract]\u001b[39;49;00m\n\u001b[0;32m    889\u001b[0m \u001b[43m        \u001b[49m\u001b[43mwriter\u001b[49m\u001b[43m,\u001b[49m\u001b[43m \u001b[49m\u001b[43mengine\u001b[49m\u001b[38;5;241;43m=\u001b[39;49m\u001b[43mengine\u001b[49m\u001b[43m,\u001b[49m\u001b[43m \u001b[49m\u001b[43mstorage_options\u001b[49m\u001b[38;5;241;43m=\u001b[39;49m\u001b[43mstorage_options\u001b[49m\n\u001b[0;32m    890\u001b[0m \u001b[43m    \u001b[49m\u001b[43m)\u001b[49m\n\u001b[0;32m    891\u001b[0m     need_save \u001b[38;5;241m=\u001b[39m \u001b[38;5;28;01mTrue\u001b[39;00m\n\u001b[0;32m    893\u001b[0m \u001b[38;5;28;01mtry\u001b[39;00m:\n",
      "File \u001b[1;32mc:\\users\\h61m\\miniconda3\\lib\\site-packages\\pandas\\io\\excel\\_openpyxl.py:49\u001b[0m, in \u001b[0;36mOpenpyxlWriter.__init__\u001b[1;34m(self, path, engine, date_format, datetime_format, mode, storage_options, if_sheet_exists, engine_kwargs, **kwargs)\u001b[0m\n\u001b[0;32m     36\u001b[0m \u001b[38;5;28;01mdef\u001b[39;00m \u001b[38;5;21m__init__\u001b[39m(\n\u001b[0;32m     37\u001b[0m     \u001b[38;5;28mself\u001b[39m,\n\u001b[0;32m     38\u001b[0m     path,\n\u001b[1;32m   (...)\u001b[0m\n\u001b[0;32m     47\u001b[0m ):\n\u001b[0;32m     48\u001b[0m     \u001b[38;5;66;03m# Use the openpyxl module as the Excel writer.\u001b[39;00m\n\u001b[1;32m---> 49\u001b[0m     \u001b[38;5;28;01mfrom\u001b[39;00m \u001b[38;5;21;01mopenpyxl\u001b[39;00m\u001b[38;5;21;01m.\u001b[39;00m\u001b[38;5;21;01mworkbook\u001b[39;00m \u001b[38;5;28;01mimport\u001b[39;00m Workbook\n\u001b[0;32m     51\u001b[0m     engine_kwargs \u001b[38;5;241m=\u001b[39m combine_kwargs(engine_kwargs, kwargs)\n\u001b[0;32m     53\u001b[0m     \u001b[38;5;28msuper\u001b[39m()\u001b[38;5;241m.\u001b[39m\u001b[38;5;21m__init__\u001b[39m(\n\u001b[0;32m     54\u001b[0m         path,\n\u001b[0;32m     55\u001b[0m         mode\u001b[38;5;241m=\u001b[39mmode,\n\u001b[1;32m   (...)\u001b[0m\n\u001b[0;32m     58\u001b[0m         engine_kwargs\u001b[38;5;241m=\u001b[39mengine_kwargs,\n\u001b[0;32m     59\u001b[0m     )\n",
      "\u001b[1;31mModuleNotFoundError\u001b[0m: No module named 'openpyxl'"
     ]
    }
   ],
   "source": [
    "estados.to_excel(\"estados.xlsx\")"
   ]
  },
  {
   "cell_type": "markdown",
   "metadata": {
    "id": "9utwbqCuRWZu"
   },
   "source": [
    "O Pandas permite esta interação entre diversos formatos, tanto de leitura quanto a exportação, como fizemos agora, mudando apenas o sufixo."
   ]
  },
  {
   "cell_type": "markdown",
   "metadata": {
    "id": "ensFWYvLReLo"
   },
   "source": [
    "# *Ler arquivos CSV e Excel*"
   ]
  },
  {
   "cell_type": "code",
   "execution_count": null,
   "metadata": {
    "id": "XnTaNm5eRVpO"
   },
   "outputs": [],
   "source": [
    "titanic = pd.read_csv('/content/train.csv')"
   ]
  },
  {
   "cell_type": "markdown",
   "metadata": {
    "id": "9ZcCZIAqY_ys"
   },
   "source": [
    "Selecionando as 10 primeiras linhas"
   ]
  },
  {
   "cell_type": "code",
   "execution_count": null,
   "metadata": {
    "colab": {
     "base_uri": "https://localhost:8080/",
     "height": 965
    },
    "executionInfo": {
     "elapsed": 269,
     "status": "ok",
     "timestamp": 1648770634820,
     "user": {
      "displayName": "Ana Chaves",
      "userId": "09260158939179175391"
     },
     "user_tz": 180
    },
    "id": "IOsjIjEHYuxz",
    "outputId": "daa070b6-d798-4278-fa48-ed50e279519e"
   },
   "outputs": [],
   "source": [
    "titanic.head(10)"
   ]
  },
  {
   "cell_type": "markdown",
   "metadata": {
    "id": "ZqvY-XMYY7hd"
   },
   "source": [
    "Uma verificação de como os pandas interpretaram cada um dos tipos de dados da coluna pode ser feita solicitando o atributo pandas: dtypes"
   ]
  },
  {
   "cell_type": "code",
   "execution_count": null,
   "metadata": {
    "colab": {
     "base_uri": "https://localhost:8080/"
    },
    "executionInfo": {
     "elapsed": 238,
     "status": "ok",
     "timestamp": 1648770659141,
     "user": {
      "displayName": "Ana Chaves",
      "userId": "09260158939179175391"
     },
     "user_tz": 180
    },
    "id": "gG4-2xHoYusL",
    "outputId": "01812d22-2c9b-4ef8-af7b-87887b7f0186"
   },
   "outputs": [],
   "source": [
    "titanic.dtypes"
   ]
  },
  {
   "cell_type": "markdown",
   "metadata": {
    "id": "PGntNdOZZIQN"
   },
   "source": [
    "Para cada uma das colunas, o tipo de dados usado é listado. Os tipos de dados nestes são inteiros, floats e strings.\n",
    "Interessado em um resumo técnico dos dados?"
   ]
  },
  {
   "cell_type": "code",
   "execution_count": null,
   "metadata": {
    "colab": {
     "base_uri": "https://localhost:8080/"
    },
    "executionInfo": {
     "elapsed": 265,
     "status": "ok",
     "timestamp": 1648770726340,
     "user": {
      "displayName": "Ana Chaves",
      "userId": "09260158939179175391"
     },
     "user_tz": 180
    },
    "id": "BA6UG7bzYumG",
    "outputId": "989c5cf5-c4ee-4f71-9ca5-80d25abe7c63"
   },
   "outputs": [],
   "source": [
    "titanic.info()"
   ]
  },
  {
   "cell_type": "markdown",
   "metadata": {
    "id": "yeuPsAZ0ZMf0"
   },
   "source": [
    "As informações do método info() fornecem informações técnicas sobre um Dataframe, então vamos explicar a saída com mais detalhes:\n",
    "É realmente um DataFrame.\n",
    "São 891 inscrições, ou seja, 891 linhas.\n",
    "Cada linha tem um rótulo de linha com valores que variam de 0 a 890 (index)\n",
    "O Dataframe tem 12 colunas. A maioria das colunas tem um valor para cada uma das linhas (todos os valores de 891 são ). Algumas colunas têm valores perdidos e menos de 891 valo"
   ]
  },
  {
   "cell_type": "markdown",
   "metadata": {
    "id": "MegeeV4YZZNI"
   },
   "source": [
    "*Criando Subconjunto*"
   ]
  },
  {
   "cell_type": "code",
   "execution_count": null,
   "metadata": {
    "colab": {
     "base_uri": "https://localhost:8080/"
    },
    "executionInfo": {
     "elapsed": 9,
     "status": "ok",
     "timestamp": 1648772926001,
     "user": {
      "displayName": "Ana Chaves",
      "userId": "09260158939179175391"
     },
     "user_tz": 180
    },
    "id": "vwCdtxXiYug6",
    "outputId": "cd46ccca-e938-493f-9ddf-2286e7934148"
   },
   "outputs": [],
   "source": [
    "ages = titanic[\"Age\"]\n",
    "ages.head()"
   ]
  },
  {
   "cell_type": "markdown",
   "metadata": {
    "id": "naQXEgeAZjQD"
   },
   "source": [
    "Para selecionar uma única coluna, usamos os colchetes com o nome da coluna de interesse.\n",
    "Cada coluna em um Dataframe é uma série. A medida que uma única coluna é selecionada, o objeto retornado é uma série Pandas. Podemos verificar testando o tipo"
   ]
  },
  {
   "cell_type": "code",
   "execution_count": null,
   "metadata": {
    "colab": {
     "base_uri": "https://localhost:8080/"
    },
    "executionInfo": {
     "elapsed": 236,
     "status": "ok",
     "timestamp": 1648770835610,
     "user": {
      "displayName": "Ana Chaves",
      "userId": "09260158939179175391"
     },
     "user_tz": 180
    },
    "id": "BKkuEtejYucn",
    "outputId": "6968eff5-b1ca-456f-d086-68770d0e98e3"
   },
   "outputs": [],
   "source": [
    "type((titanic[\"Age\"]))"
   ]
  },
  {
   "cell_type": "code",
   "execution_count": null,
   "metadata": {
    "colab": {
     "base_uri": "https://localhost:8080/"
    },
    "executionInfo": {
     "elapsed": 241,
     "status": "ok",
     "timestamp": 1648770859820,
     "user": {
      "displayName": "Ana Chaves",
      "userId": "09260158939179175391"
     },
     "user_tz": 180
    },
    "id": "2Vmd5XysYuWv",
    "outputId": "7934af66-b36f-473b-95ba-cbe7837d6c14"
   },
   "outputs": [],
   "source": [
    "#Vamos ver o shape deste conjunto de dados\n",
    "titanic[\"Age\"].shape"
   ]
  },
  {
   "cell_type": "markdown",
   "metadata": {
    "id": "Oh4x9LdkZvAE"
   },
   "source": [
    "O shape é um atributo que retorna o número de linhas e colunas. Nosso conjunto tem apenas 1-dimensão, logo retorna apenas o número de linhas.\n",
    "Seria interessante analisar a idade e o sexo dos passageiros"
   ]
  },
  {
   "cell_type": "code",
   "execution_count": null,
   "metadata": {
    "colab": {
     "base_uri": "https://localhost:8080/",
     "height": 206
    },
    "executionInfo": {
     "elapsed": 370,
     "status": "ok",
     "timestamp": 1648770896007,
     "user": {
      "displayName": "Ana Chaves",
      "userId": "09260158939179175391"
     },
     "user_tz": 180
    },
    "id": "8-LMyMrtYuL4",
    "outputId": "aaa1424c-b51c-4909-93e5-ebb46ec4b413"
   },
   "outputs": [],
   "source": [
    "age_sex = titanic[[\"Age\", \"Sex\"]]\n",
    "age_sex.head()"
   ]
  },
  {
   "cell_type": "markdown",
   "metadata": {
    "id": "9URfN6wwZ6Fy"
   },
   "source": [
    " Para múltiplas seleções, use uma lista de colunas entre as chaves.\n",
    " Os colchetes internos definem uma lista Python com os nomes das colunas, enquantos os colchetes externos são usados para selecionar os dados de um Pandas como visto nos exemplos anteriores.\n",
    "Vamos verificar o tipo e o shape deste novo subconjunto?"
   ]
  },
  {
   "cell_type": "code",
   "execution_count": null,
   "metadata": {
    "colab": {
     "base_uri": "https://localhost:8080/"
    },
    "executionInfo": {
     "elapsed": 419,
     "status": "ok",
     "timestamp": 1648771174884,
     "user": {
      "displayName": "Ana Chaves",
      "userId": "09260158939179175391"
     },
     "user_tz": 180
    },
    "id": "bbDs2olCZz8Y",
    "outputId": "e322595f-d0b4-4895-fe27-e26c9501692d"
   },
   "outputs": [],
   "source": [
    "type(titanic[[\"Age\", \"Sex\"]])"
   ]
  },
  {
   "cell_type": "code",
   "execution_count": null,
   "metadata": {
    "colab": {
     "base_uri": "https://localhost:8080/"
    },
    "executionInfo": {
     "elapsed": 250,
     "status": "ok",
     "timestamp": 1648770966727,
     "user": {
      "displayName": "Ana Chaves",
      "userId": "09260158939179175391"
     },
     "user_tz": 180
    },
    "id": "3gDkJITBZz2R",
    "outputId": "1e470568-9808-401c-b745-7c03dd01f79c"
   },
   "outputs": [],
   "source": [
    "titanic[[\"Age\", \"Sex\"]].shape"
   ]
  },
  {
   "cell_type": "markdown",
   "metadata": {
    "id": "5TbqhM_zaM40"
   },
   "source": [
    "Agora nosso conjunto retorna um Dataframe. Possui 891 linhas e 2 colunas.\n",
    "É possível filtrar os dados de uma coluna específica\n",
    "E se quisermos retornar apenas os passageiros com mais de 39 anos "
   ]
  },
  {
   "cell_type": "code",
   "execution_count": null,
   "metadata": {
    "colab": {
     "base_uri": "https://localhost:8080/",
     "height": 461
    },
    "executionInfo": {
     "elapsed": 250,
     "status": "ok",
     "timestamp": 1648771017143,
     "user": {
      "displayName": "Ana Chaves",
      "userId": "09260158939179175391"
     },
     "user_tz": 180
    },
    "id": "8EzzkfYHZzxu",
    "outputId": "a978b81a-03c5-4741-90f9-9bd31355ff23"
   },
   "outputs": [],
   "source": [
    "above_39 = titanic[titanic[\"Age\"] > 39]\n",
    "above_39.head()"
   ]
  },
  {
   "cell_type": "markdown",
   "metadata": {
    "id": "TyfBkSlgaabk"
   },
   "source": [
    "Para selecionar linhas com base em uma condição, use a condição entre os colchetes.\n",
    "Em nosso exemplo, a condição era titanic[\"Age\"] > 39 . Esta condição checa as colunas que atendem a condição. Vamos ver apenas a condição isoladamente."
   ]
  },
  {
   "cell_type": "code",
   "execution_count": null,
   "metadata": {
    "colab": {
     "base_uri": "https://localhost:8080/"
    },
    "executionInfo": {
     "elapsed": 247,
     "status": "ok",
     "timestamp": 1648774475100,
     "user": {
      "displayName": "Ana Chaves",
      "userId": "09260158939179175391"
     },
     "user_tz": 180
    },
    "id": "hks3vITwZzvD",
    "outputId": "a0e09da4-89d8-4b45-cd15-c06983fffbde"
   },
   "outputs": [],
   "source": [
    "#Verificando apenas a condição isoladamente\n",
    "above_39.shape"
   ]
  },
  {
   "cell_type": "code",
   "execution_count": null,
   "metadata": {
    "colab": {
     "base_uri": "https://localhost:8080/"
    },
    "executionInfo": {
     "elapsed": 288,
     "status": "ok",
     "timestamp": 1648774556125,
     "user": {
      "displayName": "Ana Chaves",
      "userId": "09260158939179175391"
     },
     "user_tz": 180
    },
    "id": "WdovPkIkZzo4",
    "outputId": "c13ab132-d6e3-4bac-8880-86f6d33fcc57"
   },
   "outputs": [],
   "source": [
    "#Verificar como ficou apenas nosso novo subconjunto\n",
    "above_39.max()"
   ]
  },
  {
   "cell_type": "code",
   "execution_count": null,
   "metadata": {
    "colab": {
     "base_uri": "https://localhost:8080/"
    },
    "executionInfo": {
     "elapsed": 242,
     "status": "ok",
     "timestamp": 1648775009387,
     "user": {
      "displayName": "Ana Chaves",
      "userId": "09260158939179175391"
     },
     "user_tz": 180
    },
    "id": "RcrlaUBpouOM",
    "outputId": "55280446-98b3-4e81-bd5d-9e11aec59888"
   },
   "outputs": [],
   "source": [
    "titanic['Age'].min()"
   ]
  },
  {
   "cell_type": "code",
   "execution_count": null,
   "metadata": {
    "colab": {
     "base_uri": "https://localhost:8080/"
    },
    "executionInfo": {
     "elapsed": 248,
     "status": "ok",
     "timestamp": 1648774641548,
     "user": {
      "displayName": "Ana Chaves",
      "userId": "09260158939179175391"
     },
     "user_tz": 180
    },
    "id": "F34E5f3YZzkD",
    "outputId": "5e794cb5-7b7b-49fd-815e-47b023f2d8f2"
   },
   "outputs": [],
   "source": [
    "above_39.min()"
   ]
  },
  {
   "cell_type": "code",
   "execution_count": null,
   "metadata": {
    "colab": {
     "base_uri": "https://localhost:8080/",
     "height": 444
    },
    "executionInfo": {
     "elapsed": 293,
     "status": "ok",
     "timestamp": 1648776173972,
     "user": {
      "displayName": "Ana Chaves",
      "userId": "09260158939179175391"
     },
     "user_tz": 180
    },
    "id": "HHE6rd6xt4Cp",
    "outputId": "74fadfb9-4ac6-49e5-9e8a-4615e79b36a6"
   },
   "outputs": [],
   "source": [
    "#apenas passageiros 2 3 classe\n",
    "class_23 = titanic[titanic[\"Pclass\"].isin([2,3])]\n",
    "class_23.head()"
   ]
  },
  {
   "cell_type": "markdown",
   "metadata": {
    "id": "QTEn2xCstwcQ"
   },
   "source": [
    "Semelhante as condições vistas anteriormente, o isin() retorna True a partir de uma lista informada entre os parênteses. Em nosso exemplo, filtramos Pclass e aplicamos uma lista pelo isin() para as classes 2 e 3.\n",
    "O código acima é o equivalente a utilizar duas condições entre parênteses com o operador \"ou\"(or) ( | )"
   ]
  },
  {
   "cell_type": "code",
   "execution_count": null,
   "metadata": {
    "colab": {
     "base_uri": "https://localhost:8080/",
     "height": 444
    },
    "executionInfo": {
     "elapsed": 245,
     "status": "ok",
     "timestamp": 1648776071144,
     "user": {
      "displayName": "Ana Chaves",
      "userId": "09260158939179175391"
     },
     "user_tz": 180
    },
    "id": "U3C6ida7sF28",
    "outputId": "97fc0df2-ce7f-48b6-cad0-f2d0db128114"
   },
   "outputs": [],
   "source": [
    "#Ver apenas os passageiros das classes 2 e 3\n",
    "class_2_3 = titanic[(titanic['Pclass'] == 2) | (titanic['Pclass'] == 3)]\n",
    "class_2_3.head()"
   ]
  },
  {
   "cell_type": "markdown",
   "metadata": {
    "id": "yt54bQRZuKgO"
   },
   "source": [
    "E se quisermos selecionar apenas os dados aonde a idade do passageiro foi informada ❓\n",
    "\n",
    "Incluindo o notna() retorna True apenas nos valores que não sejam nulos. Aplicamos esta condição dentro dos colchetes no Dataframe principal.\n",
    "Vamos analisar nosso conjunto com os dados de idade informados."
   ]
  },
  {
   "cell_type": "code",
   "execution_count": null,
   "metadata": {
    "colab": {
     "base_uri": "https://localhost:8080/",
     "height": 548
    },
    "executionInfo": {
     "elapsed": 383,
     "status": "ok",
     "timestamp": 1648776243711,
     "user": {
      "displayName": "Ana Chaves",
      "userId": "09260158939179175391"
     },
     "user_tz": 180
    },
    "id": "HSYgW4titnKL",
    "outputId": "882e7275-b1b1-42ee-e95d-caf985823a49"
   },
   "outputs": [],
   "source": [
    "#apenas passageiros com idade informada. Excluindo os nulos.\n",
    "age_no_na = titanic[titanic[\"Age\"].notna()]\n",
    "age_no_na.head()"
   ]
  },
  {
   "cell_type": "code",
   "execution_count": null,
   "metadata": {
    "colab": {
     "base_uri": "https://localhost:8080/"
    },
    "executionInfo": {
     "elapsed": 246,
     "status": "ok",
     "timestamp": 1648776279968,
     "user": {
      "displayName": "Ana Chaves",
      "userId": "09260158939179175391"
     },
     "user_tz": 180
    },
    "id": "-42xZ9Y2tnPb",
    "outputId": "8997af73-1b39-4240-d6b7-f7bf46dee8cc"
   },
   "outputs": [],
   "source": [
    "age_no_na.shape"
   ]
  },
  {
   "cell_type": "markdown",
   "metadata": {
    "id": "rKaImNJJudiH"
   },
   "source": [
    "Dados não informados são conhecidos como \"MISSING DATA\". Dependendo do projeto, exigirá um tratamento e não poderão simplesmente serem descartados como fizemos aqui.\n",
    "\n",
    "Como selecionar linhas e colunas específicas ❓\n",
    "\n",
    "Vamos filtrar um subconjunto apenas com o nome dos passageiros com mais de 30 anos"
   ]
  },
  {
   "cell_type": "code",
   "execution_count": null,
   "metadata": {
    "colab": {
     "base_uri": "https://localhost:8080/"
    },
    "executionInfo": {
     "elapsed": 254,
     "status": "ok",
     "timestamp": 1648776325049,
     "user": {
      "displayName": "Ana Chaves",
      "userId": "09260158939179175391"
     },
     "user_tz": 180
    },
    "id": "95IylT6ZtnVZ",
    "outputId": "5b817bf0-9157-44f0-ae57-a2739f815307"
   },
   "outputs": [],
   "source": [
    "adult_names = titanic.loc[titanic[\"Age\"] > 30, \"Name\"]\n",
    "adult_names.head()"
   ]
  },
  {
   "cell_type": "markdown",
   "metadata": {
    "id": "YOIL0vE1upSN"
   },
   "source": [
    "Neste caso, um subconjunto de linhas e colunas feito de uma só vez, usar apenas colchetes de seleção não é mais suficiente. Os operadores ('loc', 'iloc') são necessários em frente aoscolchetes. Ao usa-los, a parte antes da vírgula são as linhas desejadas (neste caso, aquelas aonde a idade está acima de 30) e a parte após a círgula são as colunas que você deseja selecionar.\n",
    "Vamos filtrar mais especificamente agora. Vamos retornar a linha 10 a 25 e das colunas 3 até a 5."
   ]
  },
  {
   "cell_type": "code",
   "execution_count": null,
   "metadata": {
    "colab": {
     "base_uri": "https://localhost:8080/",
     "height": 551
    },
    "executionInfo": {
     "elapsed": 288,
     "status": "ok",
     "timestamp": 1648776376159,
     "user": {
      "displayName": "Ana Chaves",
      "userId": "09260158939179175391"
     },
     "user_tz": 180
    },
    "id": "9ykxzZdcutLt",
    "outputId": "68d192da-fe57-43ef-f0be-8ddb969231f8"
   },
   "outputs": [],
   "source": [
    "titanic.iloc[9:25, 2:5]"
   ]
  },
  {
   "cell_type": "markdown",
   "metadata": {
    "id": "2dsVp0Qkuztj"
   },
   "source": [
    "Novamente, um subconjunto linhas e colunas feito de uma só vez, apenas usar colchetes não é mais suficiente. Quando estiver especificamente interessado em determinadas linhas e/ou colunas com base em sua posição na tabela, use o operador iloc em frente aos colchetes.\n",
    "A principal diferença entre o loc[] e o iloc[] está na forma de montar a busca.\n",
    "Ao usar o loc[] espera-se o rótulo do dado(nome). Já no iloc[] é a posição da linha ou coluna (índice).\n",
    "Ao selecionar linhas e/ou colunas específicas, usando por exemplo o iloc[], novos valores podem ser atribuídos. Olha neste exemplo, aonde iremos selecionar as três primeiras linhas e vamos atribuir um nome a coluna 3('name')."
   ]
  },
  {
   "cell_type": "code",
   "execution_count": null,
   "metadata": {
    "colab": {
     "base_uri": "https://localhost:8080/",
     "height": 444
    },
    "executionInfo": {
     "elapsed": 289,
     "status": "ok",
     "timestamp": 1648776438366,
     "user": {
      "displayName": "Ana Chaves",
      "userId": "09260158939179175391"
     },
     "user_tz": 180
    },
    "id": "nNLtDGDCuuFG",
    "outputId": "b81bc18c-c625-403b-9460-7660adc05ed6"
   },
   "outputs": [],
   "source": [
    "titanic.iloc[0:3, 3] = 'Blue'\n",
    "titanic.head()"
   ]
  },
  {
   "cell_type": "code",
   "execution_count": null,
   "metadata": {
    "colab": {
     "base_uri": "https://localhost:8080/",
     "height": 214
    },
    "executionInfo": {
     "elapsed": 268,
     "status": "ok",
     "timestamp": 1648778355025,
     "user": {
      "displayName": "Ana Chaves",
      "userId": "09260158939179175391"
     },
     "user_tz": 180
    },
    "id": "OCSszfftuuAo",
    "outputId": "a57d76e0-8478-4861-fb1b-9631a94c7078"
   },
   "outputs": [],
   "source": [
    "#buscar a idade maxima e o nome.\n",
    "titanic[titanic['Age'].max() == titanic['Age']]"
   ]
  },
  {
   "cell_type": "code",
   "execution_count": null,
   "metadata": {
    "id": "OUYHoJ8Aut5Z"
   },
   "outputs": [],
   "source": [
    "titanic.loc[631,'PassengerId']"
   ]
  },
  {
   "cell_type": "code",
   "execution_count": null,
   "metadata": {
    "id": "3QOkV6GOutxR"
   },
   "outputs": [],
   "source": []
  },
  {
   "cell_type": "code",
   "execution_count": null,
   "metadata": {
    "id": "nN1T-HrZutsa"
   },
   "outputs": [],
   "source": []
  },
  {
   "cell_type": "code",
   "execution_count": null,
   "metadata": {
    "id": "eJ88vMnkutib"
   },
   "outputs": [],
   "source": [
    "fig, axs = plt.subplots(figsize=(12, 4))        # Metodo que define e salva as medidas\n",
    "air_quality.plot.area(ax=axs)                   # Plotar o gráfico usando a medida salva anteriormente\n",
    "axs.set_ylabel(\"NO$_2$ concentration\")          #Customizando o eixo Y \n",
    "fig.savefig(\"no2_concentrations.png\")           # Salvando o gráfico"
   ]
  },
  {
   "cell_type": "markdown",
   "metadata": {
    "id": "DTsgVYuSBnzV"
   },
   "source": [
    "# **Selecionar Valor Unico**"
   ]
  },
  {
   "cell_type": "code",
   "execution_count": null,
   "metadata": {
    "colab": {
     "base_uri": "https://localhost:8080/",
     "height": 143
    },
    "executionInfo": {
     "elapsed": 352,
     "status": "ok",
     "timestamp": 1648831853553,
     "user": {
      "displayName": "Ana Chaves",
      "userId": "09260158939179175391"
     },
     "user_tz": 180
    },
    "id": "P9327vK_Bmpw",
    "outputId": "c330c2e6-fd34-40ca-b530-9e99e903c7bd"
   },
   "outputs": [],
   "source": [
    "lista1 = [[1, 2, 3], [4, 5, 6], [7, 8, 9]]\n",
    "dfl = pd.DataFrame(lista1,\n",
    "                  index=['lin1', 'lin2', 'lin3'],\n",
    "                  columns=['col1', 'col2', 'col3'])\n",
    "dfl"
   ]
  },
  {
   "cell_type": "code",
   "execution_count": null,
   "metadata": {
    "colab": {
     "base_uri": "https://localhost:8080/"
    },
    "executionInfo": {
     "elapsed": 337,
     "status": "ok",
     "timestamp": 1648831916936,
     "user": {
      "displayName": "Ana Chaves",
      "userId": "09260158939179175391"
     },
     "user_tz": 180
    },
    "id": "JmOQno0WCYts",
    "outputId": "b5d60555-5c49-4303-a085-ef97c9ce10df"
   },
   "outputs": [],
   "source": [
    "#primeira forma de buscar o item\n",
    "dfl['col2']['lin2']"
   ]
  },
  {
   "cell_type": "code",
   "execution_count": null,
   "metadata": {
    "colab": {
     "base_uri": "https://localhost:8080/",
     "height": 143
    },
    "executionInfo": {
     "elapsed": 342,
     "status": "ok",
     "timestamp": 1648831995347,
     "user": {
      "displayName": "Ana Chaves",
      "userId": "09260158939179175391"
     },
     "user_tz": 180
    },
    "id": "ahnGCeDzCoiL",
    "outputId": "43e9041c-4f91-45ef-f70a-908bb4e2bb0a"
   },
   "outputs": [],
   "source": [
    "#segunda forma de buscar o item, e pode usar para substituir valores\n",
    "dfl.at['lin2', 'col2'] = 6\n",
    "dfl"
   ]
  },
  {
   "cell_type": "code",
   "execution_count": null,
   "metadata": {
    "colab": {
     "base_uri": "https://localhost:8080/"
    },
    "executionInfo": {
     "elapsed": 391,
     "status": "ok",
     "timestamp": 1648832065732,
     "user": {
      "displayName": "Ana Chaves",
      "userId": "09260158939179175391"
     },
     "user_tz": 180
    },
    "id": "AlaGTD5iC6nC",
    "outputId": "b36600af-a309-492c-d8b6-a84099c60f36"
   },
   "outputs": [],
   "source": [
    "# i antes das funções indica que esta buscando por um numero.\n",
    "dfl.iat[1, 1]"
   ]
  },
  {
   "cell_type": "markdown",
   "metadata": {
    "id": "5Kwm7EpKDSAX"
   },
   "source": [
    "# **LOC ILOC**"
   ]
  },
  {
   "cell_type": "code",
   "execution_count": null,
   "metadata": {
    "id": "KSQ3esz6DPJL"
   },
   "outputs": [],
   "source": []
  },
  {
   "cell_type": "markdown",
   "metadata": {
    "id": "fidqmeoz3Jfm"
   },
   "source": [
    "# **DICIONARIO**\n",
    "\n"
   ]
  },
  {
   "cell_type": "code",
   "execution_count": null,
   "metadata": {
    "id": "prvSkECw6LRd"
   },
   "outputs": [],
   "source": [
    "dic = {'primeiro':'Ana', 'segundo':'Marcos', 'terceiro':'Natalia'}"
   ]
  },
  {
   "cell_type": "code",
   "execution_count": null,
   "metadata": {
    "colab": {
     "base_uri": "https://localhost:8080/"
    },
    "executionInfo": {
     "elapsed": 307,
     "status": "ok",
     "timestamp": 1648679177942,
     "user": {
      "displayName": "Ana Chaves",
      "userId": "09260158939179175391"
     },
     "user_tz": 180
    },
    "id": "Vf5BUyIj7Ae0",
    "outputId": "13eb58a9-3621-46cc-ef1f-9d4127ca896e"
   },
   "outputs": [],
   "source": [
    "for i in dic:\n",
    "  print(i, end=' ')\n",
    "  print(dic[i])\n",
    "  for j in dic[i]:\n",
    "    print(j)\n",
    "  print('-='*30)"
   ]
  },
  {
   "cell_type": "code",
   "execution_count": null,
   "metadata": {
    "id": "xtQAItKL8lJC"
   },
   "outputs": [],
   "source": [
    "dic2 = {'um':1, 'dois':2, 'tres':3}"
   ]
  },
  {
   "cell_type": "code",
   "execution_count": null,
   "metadata": {
    "colab": {
     "base_uri": "https://localhost:8080/"
    },
    "executionInfo": {
     "elapsed": 304,
     "status": "ok",
     "timestamp": 1648679593652,
     "user": {
      "displayName": "Ana Chaves",
      "userId": "09260158939179175391"
     },
     "user_tz": 180
    },
    "id": "kHfcfF0n87gj",
    "outputId": "b1a57b69-9b30-476f-9c2c-db5553ce0b9c"
   },
   "outputs": [],
   "source": [
    "for chave,valor in dic2.items():\n",
    "  print(chave)\n",
    "  print(valor)\n",
    "  if(chave == 'estoque'):\n",
    "    for j in valor:\n",
    "      dic[chave]"
   ]
  }
 ],
 "metadata": {
  "colab": {
   "collapsed_sections": [
    "oX7PtWsAbau7",
    "1AKcpSm2oB8c",
    "3gBa8vR218cJ",
    "ABFQs-krPsTb",
    "fidqmeoz3Jfm"
   ],
   "name": "Pandas.ipynb",
   "provenance": []
  },
  "kernelspec": {
   "display_name": "Python 3 (ipykernel)",
   "language": "python",
   "name": "python3"
  },
  "language_info": {
   "codemirror_mode": {
    "name": "ipython",
    "version": 3
   },
   "file_extension": ".py",
   "mimetype": "text/x-python",
   "name": "python",
   "nbconvert_exporter": "python",
   "pygments_lexer": "ipython3",
   "version": "3.8.5"
  }
 },
 "nbformat": 4,
 "nbformat_minor": 1
}
