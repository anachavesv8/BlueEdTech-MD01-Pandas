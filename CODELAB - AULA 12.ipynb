{
 "cells": [
  {
   "cell_type": "markdown",
   "id": "8c4bcbb0",
   "metadata": {},
   "source": [
    "Aula 12 - [CODELAB] Introdução ao Python"
   ]
  },
  {
   "cell_type": "markdown",
   "id": "21b5c3ee",
   "metadata": {},
   "source": [
    "Operações com números\n",
    "Existe uma ordem de operação dos números em Python, primeiro se calculam os parênteses, depois exponenciação, multiplicação e divisão, por fim, da esquerda para a direita se operam adições e subtrações. Execute e veja a diferença entre os dois códigos a seguir:"
   ]
  },
  {
   "cell_type": "code",
   "execution_count": 1,
   "id": "0e2dafb4",
   "metadata": {},
   "outputs": [
    {
     "data": {
      "text/plain": [
       "4.5"
      ]
     },
     "execution_count": 1,
     "metadata": {},
     "output_type": "execute_result"
    }
   ],
   "source": [
    "(1 + 2) * (9 + 6) / 6 - 3"
   ]
  },
  {
   "cell_type": "code",
   "execution_count": 2,
   "id": "acc01fae",
   "metadata": {},
   "outputs": [
    {
     "data": {
      "text/plain": [
       "24.0"
      ]
     },
     "execution_count": 2,
     "metadata": {},
     "output_type": "execute_result"
    }
   ],
   "source": [
    "1 + 2 * 9 + 3 + 6 / (6 - 3)"
   ]
  },
  {
   "cell_type": "markdown",
   "id": "b3757bb4",
   "metadata": {},
   "source": [
    "Aproveitando este desafio da Calculadora quebrada tente os seguintes desafios:\n",
    "Usando os números 2 ou 3 e as operações + ou *, exiba os números 6, 7, 8, 10, 12, 15, 20 e 50. (por exemplo, 6 é o resultado de 2 + 2 + 2, ou 2 * 3, agora faça para os outros números).\n",
    "Usando os números 2 ou 5, as operações - ou * e os parênteses, exiba os números -10, 1, 3, 10, 24, 32, 100, 625\n",
    "Usando os números 0, 1 ou 2, as operações / ou * e os parênteses, exiba os números 3, 4, 5, 6, 7, 8, 9, 10."
   ]
  },
  {
   "cell_type": "code",
   "execution_count": null,
   "id": "8497e6f5",
   "metadata": {},
   "outputs": [],
   "source": []
  },
  {
   "cell_type": "markdown",
   "id": "25a39a47",
   "metadata": {},
   "source": [
    "Note que outras operações como a raiz quadrada não estão disponíveis no básico do Python, para isso é necessário trazer um \"complemento\", ou melhor dizendo, uma biblioteca.\n",
    "As bibliotecas são conjuntos de funções que pessoas reuniram em um lugar só e disponibilizaram para outras pessoas não terem que programar aquilo novamente, por exemplo os algoritmos vistos no Orange, alguém programou a Árvore de Decisão, ou a Regressão Linear, porém no Orange tem um recurso visual e no Python não.\n",
    "Uma biblioteca que será trabalhada é a math e para ser incluída na nossa programação em Python, use o comando a seguir:"
   ]
  },
  {
   "cell_type": "code",
   "execution_count": null,
   "id": "dc96b425",
   "metadata": {},
   "outputs": [],
   "source": []
  }
 ],
 "metadata": {
  "kernelspec": {
   "display_name": "Python 3 (ipykernel)",
   "language": "python",
   "name": "python3"
  },
  "language_info": {
   "codemirror_mode": {
    "name": "ipython",
    "version": 3
   },
   "file_extension": ".py",
   "mimetype": "text/x-python",
   "name": "python",
   "nbconvert_exporter": "python",
   "pygments_lexer": "ipython3",
   "version": "3.8.5"
  }
 },
 "nbformat": 4,
 "nbformat_minor": 5
}
